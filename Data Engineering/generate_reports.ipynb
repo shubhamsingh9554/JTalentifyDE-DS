{
 "cells": [
  {
   "cell_type": "code",
   "execution_count": 5,
   "metadata": {},
   "outputs": [],
   "source": [
    "import pandas as pd\n",
    "import logging\n",
    "\n",
    "logging.basicConfig(filename='etl_process.log', level=logging.INFO)\n",
    "\n",
    "def generate_reports():\n",
    "    try:\n",
    "        \n",
    "        employees_df = pd.read_csv('transformation/transformed_employees.csv')\n",
    "        skills_df = pd.read_csv('transformation/transformed_skills.csv')\n",
    "        employee_skills_df = pd.read_csv('transformation/transformed_employee_skills.csv')\n",
    "        employee_certificates_df = pd.read_csv('transformation/transformed_employee_certificates.csv')\n",
    "        courses_df = pd.read_csv('transformation/transformed_courses.csv')\n",
    "        employee_courses_df = pd.read_csv('transformation/transformed_employee_courses.csv')\n",
    "\n",
    "        skill_summary = employee_skills_df.groupby('skill_id')['skill_level'].value_counts().unstack(fill_value=0)\n",
    "        skill_summary.to_csv('reports/skill_summary_report.csv')\n",
    "        logging.info('Generated skill summary report successfully.')\n",
    "\n",
    "        certification_summary = employee_certificates_df.groupby('certification_id').size().reset_index(name='count')\n",
    "        certification_summary.to_csv('reports/certification_summary_report.csv', index=False)\n",
    "        logging.info('Generated certification summary report successfully.')\n",
    "\n",
    "        competency_summary = employee_skills_df.groupby(['employee_id', 'skill_level']).size().unstack(fill_value=0)\n",
    "        competency_summary.to_csv('reports/competency_summary_report.csv')\n",
    "        logging.info('Generated competency summary report successfully.')\n",
    "\n",
    "        employee_certificate_summary = employee_certificates_df.groupby('employee_id')['certification_id'].count().reset_index(name='certification_count')\n",
    "        employee_certificate_summary.to_csv('reports/employee_certificate_summary_report.csv', index=False)\n",
    "        logging.info('Generated employee certificate summary report successfully.')\n",
    "\n",
    "        avg_skill_progress = employee_skills_df.merge(employees_df, on='employee_id') \\\n",
    "            .groupby('department')['skill_progress'].mean().reset_index()\n",
    "        avg_skill_progress.to_csv('reports/average_skill_progress_by_department.csv', index=False)\n",
    "        logging.info('Generated average skill progress by department report successfully.')\n",
    "\n",
    "        course_enrollment_summary = employee_courses_df.groupby('course_id').size().reset_index(name='enrollment_count')\n",
    "        course_enrollment_summary.to_csv('reports/course_enrollment_summary_report.csv', index=False)\n",
    "        logging.info('Generated course enrollment summary report successfully.')\n",
    "\n",
    "        employee_course_summary = employee_courses_df.groupby('employee_id')['course_id'].count().reset_index(name='course_count')\n",
    "        employee_course_summary.to_csv('reports/employee_course_summary_report.csv', index=False)\n",
    "        logging.info('Generated employee course summary report successfully.')\n",
    "\n",
    "        avg_course_enrollment = employee_courses_df.merge(employees_df, on='employee_id') \\\n",
    "            .groupby('department')['course_id'].count().reset_index(name='course_enrollment_count')\n",
    "        avg_course_enrollment.to_csv('reports/average_course_enrollment_by_department.csv', index=False)\n",
    "        logging.info('Generated average course enrollment by department report successfully.')\n",
    "\n",
    "    except Exception as e:\n",
    "        logging.error(f\"Error in generate_reports: {e}\")\n",
    "\n",
    "if __name__ == \"__main__\":\n",
    "    generate_reports()\n"
   ]
  }
 ],
 "metadata": {
  "kernelspec": {
   "display_name": "Python 3",
   "language": "python",
   "name": "python3"
  },
  "language_info": {
   "codemirror_mode": {
    "name": "ipython",
    "version": 3
   },
   "file_extension": ".py",
   "mimetype": "text/x-python",
   "name": "python",
   "nbconvert_exporter": "python",
   "pygments_lexer": "ipython3",
   "version": "3.12.5"
  }
 },
 "nbformat": 4,
 "nbformat_minor": 2
}

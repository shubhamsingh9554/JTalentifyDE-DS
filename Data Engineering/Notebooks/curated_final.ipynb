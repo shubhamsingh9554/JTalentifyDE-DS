{
 "cells": [
  {
   "cell_type": "code",
   "execution_count": 3,
   "metadata": {},
   "outputs": [
    {
     "name": "stdout",
     "output_type": "stream",
     "text": [
      "Final ALE file created successfully.\n"
     ]
    }
   ],
   "source": [
    "import pandas as pd\n",
    "def create_final_ale_file():\n",
    "    employees_df = pd.read_csv('transformation/transformed_employees.csv')\n",
    "    skills_df = pd.read_csv('transformation/transformed_skills.csv')\n",
    "    employee_skills_df = pd.read_csv('transformation/transformed_employee_skills.csv')\n",
    "    certifications_df = pd.read_csv('transformation/transformed_certifications.csv')\n",
    "    employee_certificates_df = pd.read_csv('transformation/transformed_employee_certificates.csv')\n",
    "    courses_df = pd.read_csv('transformation/transformed_courses.csv')\n",
    "    employee_courses_df = pd.read_csv('transformation/transformed_employee_courses.csv')\n",
    "    \n",
    "    final_df = pd.merge(employees_df, employee_skills_df, on='employee_id', how='left')\n",
    "    \n",
    "    final_df = pd.merge(final_df, skills_df[['skill_id', 'skill_name']], on='skill_id', how='left')\n",
    "    \n",
    "    final_df = pd.merge(final_df, employee_certificates_df, on='employee_id', how='left')\n",
    "    \n",
    "    final_df = pd.merge(final_df, certifications_df[['certification_id', 'certification_name']], on='certification_id', how='left')\n",
    "    \n",
    "    final_df = pd.merge(final_df, employee_courses_df, on='employee_id', how='left')\n",
    "    \n",
    "    final_df = pd.merge(final_df, courses_df[['course_id', 'course_name', 'department', 'role']], on='course_id', how='left')\n",
    "    \n",
    "    final_df.to_csv('reports/curated_final_ale.csv', index=False)\n",
    "    print(\"Final ALE file created successfully.\")\n",
    "\n",
    "if __name__ == \"__main__\":\n",
    "    create_final_ale_file()\n"
   ]
  }
 ],
 "metadata": {
  "kernelspec": {
   "display_name": "Python 3",
   "language": "python",
   "name": "python3"
  },
  "language_info": {
   "codemirror_mode": {
    "name": "ipython",
    "version": 3
   },
   "file_extension": ".py",
   "mimetype": "text/x-python",
   "name": "python",
   "nbconvert_exporter": "python",
   "pygments_lexer": "ipython3",
   "version": "3.12.5"
  }
 },
 "nbformat": 4,
 "nbformat_minor": 2
}
